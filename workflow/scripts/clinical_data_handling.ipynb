{
 "cells": [
  {
   "cell_type": "code",
   "execution_count": null,
   "metadata": {},
   "outputs": [],
   "source": [
    "import pandas as pd\n",
    "import os"
   ]
  },
  {
   "cell_type": "markdown",
   "metadata": {},
   "source": [
    "## Directory Structure\n",
    "\n",
    "The first step is to set up a rawdata, procdata, and results directory to keep track of the downloaded data, processing steps, and the final result. We'll also make a workflow directory to keep track of code, logs, configuration files, and other relevant files.\n",
    "\n",
    "The organization will look like this:\n"
   ]
  },
  {
   "cell_type": "raw",
   "metadata": {
    "vscode": {
     "languageId": "raw"
    }
   },
   "source": [
    "├── README.md\n",
    "├── procdata\n",
    "├── rawdata\n",
    "├── results\n",
    "└── workflow\n",
    "    ├── config\n",
    "    ├── envs\n",
    "    ├── logs\n",
    "    └── scripts"
   ]
  },
  {
   "cell_type": "code",
   "execution_count": 12,
   "metadata": {},
   "outputs": [],
   "source": [
    "!mkdir -p ../../rawdata/ ../../procdata/ ../../results/"
   ]
  },
  {
   "cell_type": "markdown",
   "metadata": {},
   "source": [
    "# Download clinical data from TCIA for the HNSCC dataset\n",
    "\n",
    "HNSCC is a publicly available dataset on TCIA. The imaging data is under a TCIA Restricted License, but the clinical data is available for download. \n",
    "\n",
    "There are two clinical spreadsheets provided as data from two institutions is included. The first is _Head-Neck-CT-Atlas_ and the second is _Radiomics outcome prediction in Oropharyngeal cancer_. We'll refer to these as ATLAS and OPC, respectively."
   ]
  },
  {
   "cell_type": "code",
   "execution_count": 18,
   "metadata": {},
   "outputs": [
    {
     "name": "stdout",
     "output_type": "stream",
     "text": [
      "--2024-09-30 11:45:40--  https://www.cancerimagingarchive.net/wp-content/uploads/HNSCC-MDA-Data_update_20240514.xlsx\n",
      "Resolving www.cancerimagingarchive.net (www.cancerimagingarchive.net)... 144.30.169.13\n",
      "Connecting to www.cancerimagingarchive.net (www.cancerimagingarchive.net)|144.30.169.13|:443... connected.\n",
      "HTTP request sent, awaiting response... 200 OK\n",
      "Length: 137751 (135K) [application/vnd.openxmlformats-officedocument.spreadsheetml.sheet]\n",
      "Saving to: ‘../../rawdata/HNSCC-MDA-Data_update_20240514.xlsx’\n",
      "\n",
      "          HNSCC-MDA   0%[                    ]       0  --.-KB/s               "
     ]
    }
   ],
   "source": [
    "# Download ATLAS Clinical Data to the appropriate directory\n",
    "# Won't download if the file already exists\n",
    "!wget -nc -P ../../rawdata/ https://www.cancerimagingarchive.net/wp-content/uploads/HNSCC-MDA-Data_update_20240514.xlsx"
   ]
  },
  {
   "cell_type": "code",
   "execution_count": 17,
   "metadata": {
    "vscode": {
     "languageId": "shellscript"
    }
   },
   "outputs": [
    {
     "name": "stdout",
     "output_type": "stream",
     "text": [
      "--2024-09-30 11:45:31--  https://www.cancerimagingarchive.net/wp-content/uploads/Radiomics_Outcome_Prediction_in_OPC_ASRM_corrected.csv\n",
      "Resolving www.cancerimagingarchive.net (www.cancerimagingarchive.net)... 144.30.169.13\n",
      "Connecting to www.cancerimagingarchive.net (www.cancerimagingarchive.net)|144.30.169.13|:443... connected.\n",
      "HTTP request sent, awaiting response... 200 OK\n",
      "Length: 88002 (86K) [text/csv]\n",
      "Saving to: ‘../../rawdata/Radiomics_Outcome_Prediction_in_OPC_ASRM_corrected.csv’\n",
      "\n",
      "Radiomics_Outcome_P 100%[===================>]  85.94K  --.-KB/s    in 0.1s    \n",
      "\n",
      "2024-09-30 11:45:32 (878 KB/s) - ‘../../rawdata/Radiomics_Outcome_Prediction_in_OPC_ASRM_corrected.csv’ saved [88002/88002]\n",
      "\n"
     ]
    }
   ],
   "source": [
    "# Download OPC Clinical Data to the appropriate directory\n",
    "# Won't download if the file already exists\n",
    "!wget -nc -P ../../rawdata/ https://www.cancerimagingarchive.net/wp-content/uploads/Radiomics_Outcome_Prediction_in_OPC_ASRM_corrected.csv"
   ]
  },
  {
   "cell_type": "code",
   "execution_count": null,
   "metadata": {
    "vscode": {
     "languageId": "shellscript"
    }
   },
   "outputs": [],
   "source": []
  }
 ],
 "metadata": {
  "kernelspec": {
   "display_name": "radiogenomics",
   "language": "python",
   "name": "python3"
  },
  "language_info": {
   "codemirror_mode": {
    "name": "ipython",
    "version": 3
   },
   "file_extension": ".py",
   "mimetype": "text/x-python",
   "name": "python",
   "nbconvert_exporter": "python",
   "pygments_lexer": "ipython3",
   "version": "3.9.18"
  }
 },
 "nbformat": 4,
 "nbformat_minor": 2
}

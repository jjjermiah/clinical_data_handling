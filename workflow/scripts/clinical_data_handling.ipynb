{
 "cells": [
  {
   "cell_type": "code",
   "execution_count": 1,
   "metadata": {},
   "outputs": [],
   "source": [
    "from helpers import *"
   ]
  },
  {
   "cell_type": "markdown",
   "metadata": {},
   "source": [
    "## Directory Structure\n",
    "\n",
    "The first step is to set up a rawdata, procdata, and results directory to keep track of the downloaded data, processing steps, and the final result. We'll also make a workflow directory to keep track of code, logs, configuration files, and other relevant files.\n",
    "\n",
    "The organization will look like this:\n"
   ]
  },
  {
   "cell_type": "raw",
   "metadata": {
    "vscode": {
     "languageId": "raw"
    }
   },
   "source": [
    "├── README.md\n",
    "├── procdata\n",
    "├── rawdata\n",
    "├── results\n",
    "└── workflow\n",
    "    ├── config\n",
    "    ├── envs\n",
    "    ├── logs\n",
    "    └── scripts"
   ]
  },
  {
   "cell_type": "code",
   "execution_count": 2,
   "metadata": {},
   "outputs": [],
   "source": [
    "!mkdir -p ../../rawdata/ ../../procdata/ ../../results/"
   ]
  },
  {
   "cell_type": "markdown",
   "metadata": {},
   "source": [
    "# Download clinical data from TCIA for the HNSCC dataset\n",
    "\n",
    "HNSCC is a publicly available dataset on TCIA. The imaging data is under a TCIA Restricted License, but the clinical data is available for download. \n",
    "\n",
    "There are two clinical spreadsheets provided as data from two institutions is included. The first is _Head-Neck-CT-Atlas_ and the second is _Radiomics outcome prediction in Oropharyngeal cancer_. We'll refer to these as ATLAS and OPC, respectively."
   ]
  },
  {
   "cell_type": "code",
   "execution_count": 6,
   "metadata": {},
   "outputs": [
    {
     "name": "stdout",
     "output_type": "stream",
     "text": [
      "--2024-09-30 12:38:24--  https://www.cancerimagingarchive.net/wp-content/uploads/HNSCC-MDA-Data_update_20240514.xlsx\n",
      "Resolving www.cancerimagingarchive.net (www.cancerimagingarchive.net)... 144.30.169.13\n",
      "Connecting to www.cancerimagingarchive.net (www.cancerimagingarchive.net)|144.30.169.13|:443... connected.\n",
      "HTTP request sent, awaiting response... 200 OK\n",
      "Length: 137751 (135K) [application/vnd.openxmlformats-officedocument.spreadsheetml.sheet]\n",
      "Saving to: ‘../../rawdata/HNSCC/clinical/atlas/HNSCC-MDA-Data_update_20240514.xlsx’\n",
      "\n",
      "HNSCC-MDA-Data_upda 100%[===================>] 134.52K  --.-KB/s    in 0.1s    \n",
      "\n",
      "2024-09-30 12:38:24 (900 KB/s) - ‘../../rawdata/HNSCC/clinical/atlas/HNSCC-MDA-Data_update_20240514.xlsx’ saved [137751/137751]\n",
      "\n"
     ]
    }
   ],
   "source": [
    "# Download ATLAS Clinical Data to the appropriate directory\n",
    "# Won't download if the file already exists\n",
    "!wget -nc -P ../../rawdata/HNSCC/clinical/atlas/ https://www.cancerimagingarchive.net/wp-content/uploads/HNSCC-MDA-Data_update_20240514.xlsx"
   ]
  },
  {
   "cell_type": "code",
   "execution_count": 7,
   "metadata": {
    "vscode": {
     "languageId": "shellscript"
    }
   },
   "outputs": [
    {
     "name": "stdout",
     "output_type": "stream",
     "text": [
      "--2024-09-30 12:38:25--  https://www.cancerimagingarchive.net/wp-content/uploads/Radiomics_Outcome_Prediction_in_OPC_ASRM_corrected.csv\n",
      "Resolving www.cancerimagingarchive.net (www.cancerimagingarchive.net)... 144.30.169.13\n",
      "Connecting to www.cancerimagingarchive.net (www.cancerimagingarchive.net)|144.30.169.13|:443... connected.\n",
      "HTTP request sent, awaiting response... 200 OK\n",
      "Length: 88002 (86K) [text/csv]\n",
      "Saving to: ‘../../rawdata/HNSCC/clinical/opc/Radiomics_Outcome_Prediction_in_OPC_ASRM_corrected.csv’\n",
      "\n",
      "Radiomics_Outcome_P 100%[===================>]  85.94K  --.-KB/s    in 0.1s    \n",
      "\n",
      "2024-09-30 12:38:26 (826 KB/s) - ‘../../rawdata/HNSCC/clinical/opc/Radiomics_Outcome_Prediction_in_OPC_ASRM_corrected.csv’ saved [88002/88002]\n",
      "\n"
     ]
    }
   ],
   "source": [
    "# Download OPC Clinical Data to the appropriate directory\n",
    "# Won't download if the file already exists\n",
    "!wget -nc -P ../../rawdata/HNSCC/clinical/opc/ https://www.cancerimagingarchive.net/wp-content/uploads/Radiomics_Outcome_Prediction_in_OPC_ASRM_corrected.csv"
   ]
  },
  {
   "cell_type": "markdown",
   "metadata": {},
   "source": [
    "# Data Loading"
   ]
  },
  {
   "cell_type": "code",
   "execution_count": 8,
   "metadata": {},
   "outputs": [],
   "source": [
    "import pandas as pd\n",
    "import os"
   ]
  },
  {
   "cell_type": "code",
   "execution_count": 9,
   "metadata": {},
   "outputs": [],
   "source": [
    "atlas_clinical_data_path = os.path.join(\"../../rawdata/HNSCC/clinical/atlas/\", os.listdir(\"../../rawdata/HNSCC/clinical/atlas/\")[0])\n",
    "\n",
    "atlas_clinical_dataframe = load_data_to_df(atlas_clinical_data_path)"
   ]
  },
  {
   "cell_type": "code",
   "execution_count": 10,
   "metadata": {},
   "outputs": [],
   "source": [
    "opc_clinical_data_path = os.path.join(\"../../rawdata/HNSCC/clinical/opc/\", os.listdir(\"../../rawdata/HNSCC/clinical/opc/\")[0])\n",
    "\n",
    "opc_clinical_dataframe =load_data_to_df(opc_clinical_data_path)"
   ]
  },
  {
   "cell_type": "markdown",
   "metadata": {},
   "source": [
    "# Rename Clinical Columns to match\n",
    "\n",
    "These two clinical datasets have different column numbers and names. We're going to rename the columns to match, based on the RADCURE clinical dataset (also on TCIA)."
   ]
  },
  {
   "cell_type": "code",
   "execution_count": 11,
   "metadata": {},
   "outputs": [],
   "source": [
    "updated_col_names_atlas = {\"Alive or Dead\": \"Status\"}\n",
    "\n",
    "updated_atlas_clinical_dataframe = atlas_clinical_dataframe.rename(columns=updated_col_names_atlas)"
   ]
  },
  {
   "cell_type": "code",
   "execution_count": 12,
   "metadata": {},
   "outputs": [],
   "source": [
    "updated_col_names_opc = {\"Gender\": \"Sex\",\n",
    "                         \"Age at Diag\": \"Age\",\n",
    "                         \"T-category\": \"T\",\n",
    "                         \"N-category\": \"N\",\n",
    "                         \"AJCC Stage (7th edition)\": \"Stage\",\n",
    "                         \"Therapeutic Combination\": \"Oncologic Treatment Summary\",\n",
    "                         \"Total prescribed Radiation treatment dose\": \"RT Total Dose (Gy)\",\n",
    "                         \"Radiation treatment_number of fractions\": \"Number of Fractions\",\n",
    "                         \"Radiation treatment_dose per fraction\": \"Dose/Fraction (Gy/fx)\",\n",
    "                         \"Vital status\": \"Status\",\n",
    "                         \"Overall survival_duration of Merged updated ASRM V2\": \"Survival (days)\",\n",
    "                         }\n",
    "\n",
    "updated_opc_clinical_dataframe = opc_clinical_dataframe.rename(columns=updated_col_names_opc)"
   ]
  },
  {
   "cell_type": "markdown",
   "metadata": {},
   "source": [
    "# Merge Dataframes\n",
    "\n",
    "Now that the datasets have more matching columns, we can merge them into a single dataframe. The ATLAS dataset has many columns not present in OPC, so these will be marked as `NaN` in the merged dataframe.\n",
    "\n",
    "First we'll set the patient ID column as the index of the dataframes, and then we'll merge them into a single dataframe."
   ]
  },
  {
   "cell_type": "code",
   "execution_count": 13,
   "metadata": {},
   "outputs": [],
   "source": [
    "atlas_patient_identifier = getPatientIdentifierLabel(updated_atlas_clinical_dataframe)\n",
    "updated_atlas_clinical_dataframe.set_index(atlas_patient_identifier, inplace=True)"
   ]
  },
  {
   "cell_type": "code",
   "execution_count": 14,
   "metadata": {},
   "outputs": [
    {
     "name": "stdout",
     "output_type": "stream",
     "text": [
      "Multiple patient identifier labels found. Using the first one.\n"
     ]
    }
   ],
   "source": [
    "opc_patient_identifier = getPatientIdentifierLabel(updated_opc_clinical_dataframe)\n",
    "updated_opc_clinical_dataframe.set_index(opc_patient_identifier, inplace=True)"
   ]
  },
  {
   "cell_type": "code",
   "execution_count": null,
   "metadata": {},
   "outputs": [],
   "source": []
  }
 ],
 "metadata": {
  "kernelspec": {
   "display_name": "radiogenomics",
   "language": "python",
   "name": "python3"
  },
  "language_info": {
   "codemirror_mode": {
    "name": "ipython",
    "version": 3
   },
   "file_extension": ".py",
   "mimetype": "text/x-python",
   "name": "python",
   "nbconvert_exporter": "python",
   "pygments_lexer": "ipython3",
   "version": "3.9.18"
  }
 },
 "nbformat": 4,
 "nbformat_minor": 2
}
